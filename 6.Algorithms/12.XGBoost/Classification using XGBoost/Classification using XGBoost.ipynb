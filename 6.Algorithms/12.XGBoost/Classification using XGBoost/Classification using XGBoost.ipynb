{
 "cells": [
  {
   "cell_type": "markdown",
   "id": "fa3760b0",
   "metadata": {
    "papermill": {
     "duration": 0.012466,
     "end_time": "2022-07-13T06:09:08.221021",
     "exception": false,
     "start_time": "2022-07-13T06:09:08.208555",
     "status": "completed"
    },
    "tags": []
   },
   "source": [
    "# <p style=\"background-color:coral;font-family:newtimeroman;font-size:150%;color:white;text-align:center;border-radius:20px 20px;\"><b>Classification Analysis with XGBoost</b></p>\n",
    "![](https://img.freepik.com/free-vector/dollars-illustration-set_74855-4404.jpg?t=st=1657689230~exp=1657689830~hmac=87d1560ac28551580c64ab1b442f2e2cc0e27bfd7fbf3380d86ba23c11fd9de8&w=1060)"
   ]
  },
  {
   "cell_type": "markdown",
   "id": "3a564232",
   "metadata": {
    "papermill": {
     "duration": 0.00981,
     "end_time": "2022-07-13T06:09:08.261675",
     "exception": false,
     "start_time": "2022-07-13T06:09:08.251865",
     "status": "completed"
    },
    "tags": []
   },
   "source": [
    "<a id='#xgboost'></a>\n",
    "# <p style=\"background-color:coral;font-family:newtimeroman;font-size:150%;color:white;text-align:center;border-radius:20px 20px;\"><b>What is XGBoost?</b></p>"
   ]
  },
  {
   "cell_type": "markdown",
   "id": "3c252a73",
   "metadata": {
    "papermill": {
     "duration": 0.009924,
     "end_time": "2022-07-13T06:09:08.281741",
     "exception": false,
     "start_time": "2022-07-13T06:09:08.271817",
     "status": "completed"
    },
    "tags": []
   },
   "source": [
    "[XGBoost](https://xgboost.readthedocs.io/en/stable/) is an optimized distributed gradient boosting library designed to be highly efficient, flexible and portable. XGBoost is short for Extreme Gradient Boosting. You can use the XGBoost to implement gradient boosting. It provides a parallel tree boosting that solves many data science problems in a fast and accurate way. "
   ]
  },
  {
   "cell_type": "markdown",
   "id": "7f825cc1",
   "metadata": {
    "papermill": {
     "duration": 0.010742,
     "end_time": "2022-07-13T06:09:08.302701",
     "exception": false,
     "start_time": "2022-07-13T06:09:08.291959",
     "status": "completed"
    },
    "tags": []
   },
   "source": [
    "<a id='load'></a>\n",
    "# <p style=\"background-color:coral;font-family:newtimeroman;font-size:150%;color:white;text-align:center;border-radius:20px 20px;\"><b>Loading The Dataset</b></p>\n",
    "The dataset named Adult Census Income is present in Kaggle and [UCI repository](https://archive.ics.uci.edu/ml/datasets/adult). This data was extracted from the 1994 Census bureau database by Ronny Kohavi and Barry Becker (Data Mining and Visualization, Silicon Graphics). The prediction task is to specify whether a person makes over \\$50K a year or not. \n",
    "\n",
    "Let's load this dataset with the `read_csv` method in Pandas"
   ]
  },
  {
   "cell_type": "code",
   "execution_count": 1,
   "id": "e022c7ff",
   "metadata": {
    "execution": {
     "iopub.execute_input": "2022-07-13T06:09:08.325022Z",
     "iopub.status.busy": "2022-07-13T06:09:08.324496Z",
     "iopub.status.idle": "2022-07-13T06:09:08.494489Z",
     "shell.execute_reply": "2022-07-13T06:09:08.493718Z"
    },
    "papermill": {
     "duration": 0.184597,
     "end_time": "2022-07-13T06:09:08.497353",
     "exception": false,
     "start_time": "2022-07-13T06:09:08.312756",
     "status": "completed"
    },
    "tags": []
   },
   "outputs": [
    {
     "data": {
      "text/html": [
       "<div>\n",
       "<style scoped>\n",
       "    .dataframe tbody tr th:only-of-type {\n",
       "        vertical-align: middle;\n",
       "    }\n",
       "\n",
       "    .dataframe tbody tr th {\n",
       "        vertical-align: top;\n",
       "    }\n",
       "\n",
       "    .dataframe thead th {\n",
       "        text-align: right;\n",
       "    }\n",
       "</style>\n",
       "<table border=\"1\" class=\"dataframe\">\n",
       "  <thead>\n",
       "    <tr style=\"text-align: right;\">\n",
       "      <th></th>\n",
       "      <th>age</th>\n",
       "      <th>workclass</th>\n",
       "      <th>fnlwgt</th>\n",
       "      <th>education</th>\n",
       "      <th>education.num</th>\n",
       "      <th>marital.status</th>\n",
       "      <th>occupation</th>\n",
       "      <th>relationship</th>\n",
       "      <th>race</th>\n",
       "      <th>sex</th>\n",
       "      <th>capital.gain</th>\n",
       "      <th>capital.loss</th>\n",
       "      <th>hours.per.week</th>\n",
       "      <th>native.country</th>\n",
       "      <th>income</th>\n",
       "    </tr>\n",
       "  </thead>\n",
       "  <tbody>\n",
       "    <tr>\n",
       "      <th>0</th>\n",
       "      <td>90</td>\n",
       "      <td>?</td>\n",
       "      <td>77053</td>\n",
       "      <td>HS-grad</td>\n",
       "      <td>9</td>\n",
       "      <td>Widowed</td>\n",
       "      <td>?</td>\n",
       "      <td>Not-in-family</td>\n",
       "      <td>White</td>\n",
       "      <td>Female</td>\n",
       "      <td>0</td>\n",
       "      <td>4356</td>\n",
       "      <td>40</td>\n",
       "      <td>United-States</td>\n",
       "      <td>&lt;=50K</td>\n",
       "    </tr>\n",
       "    <tr>\n",
       "      <th>1</th>\n",
       "      <td>82</td>\n",
       "      <td>Private</td>\n",
       "      <td>132870</td>\n",
       "      <td>HS-grad</td>\n",
       "      <td>9</td>\n",
       "      <td>Widowed</td>\n",
       "      <td>Exec-managerial</td>\n",
       "      <td>Not-in-family</td>\n",
       "      <td>White</td>\n",
       "      <td>Female</td>\n",
       "      <td>0</td>\n",
       "      <td>4356</td>\n",
       "      <td>18</td>\n",
       "      <td>United-States</td>\n",
       "      <td>&lt;=50K</td>\n",
       "    </tr>\n",
       "    <tr>\n",
       "      <th>2</th>\n",
       "      <td>66</td>\n",
       "      <td>?</td>\n",
       "      <td>186061</td>\n",
       "      <td>Some-college</td>\n",
       "      <td>10</td>\n",
       "      <td>Widowed</td>\n",
       "      <td>?</td>\n",
       "      <td>Unmarried</td>\n",
       "      <td>Black</td>\n",
       "      <td>Female</td>\n",
       "      <td>0</td>\n",
       "      <td>4356</td>\n",
       "      <td>40</td>\n",
       "      <td>United-States</td>\n",
       "      <td>&lt;=50K</td>\n",
       "    </tr>\n",
       "    <tr>\n",
       "      <th>3</th>\n",
       "      <td>54</td>\n",
       "      <td>Private</td>\n",
       "      <td>140359</td>\n",
       "      <td>7th-8th</td>\n",
       "      <td>4</td>\n",
       "      <td>Divorced</td>\n",
       "      <td>Machine-op-inspct</td>\n",
       "      <td>Unmarried</td>\n",
       "      <td>White</td>\n",
       "      <td>Female</td>\n",
       "      <td>0</td>\n",
       "      <td>3900</td>\n",
       "      <td>40</td>\n",
       "      <td>United-States</td>\n",
       "      <td>&lt;=50K</td>\n",
       "    </tr>\n",
       "    <tr>\n",
       "      <th>4</th>\n",
       "      <td>41</td>\n",
       "      <td>Private</td>\n",
       "      <td>264663</td>\n",
       "      <td>Some-college</td>\n",
       "      <td>10</td>\n",
       "      <td>Separated</td>\n",
       "      <td>Prof-specialty</td>\n",
       "      <td>Own-child</td>\n",
       "      <td>White</td>\n",
       "      <td>Female</td>\n",
       "      <td>0</td>\n",
       "      <td>3900</td>\n",
       "      <td>40</td>\n",
       "      <td>United-States</td>\n",
       "      <td>&lt;=50K</td>\n",
       "    </tr>\n",
       "  </tbody>\n",
       "</table>\n",
       "</div>"
      ],
      "text/plain": [
       "   age workclass  fnlwgt     education  education.num marital.status  \\\n",
       "0   90         ?   77053       HS-grad              9        Widowed   \n",
       "1   82   Private  132870       HS-grad              9        Widowed   \n",
       "2   66         ?  186061  Some-college             10        Widowed   \n",
       "3   54   Private  140359       7th-8th              4       Divorced   \n",
       "4   41   Private  264663  Some-college             10      Separated   \n",
       "\n",
       "          occupation   relationship   race     sex  capital.gain  \\\n",
       "0                  ?  Not-in-family  White  Female             0   \n",
       "1    Exec-managerial  Not-in-family  White  Female             0   \n",
       "2                  ?      Unmarried  Black  Female             0   \n",
       "3  Machine-op-inspct      Unmarried  White  Female             0   \n",
       "4     Prof-specialty      Own-child  White  Female             0   \n",
       "\n",
       "   capital.loss  hours.per.week native.country income  \n",
       "0          4356              40  United-States  <=50K  \n",
       "1          4356              18  United-States  <=50K  \n",
       "2          4356              40  United-States  <=50K  \n",
       "3          3900              40  United-States  <=50K  \n",
       "4          3900              40  United-States  <=50K  "
      ]
     },
     "execution_count": 1,
     "metadata": {},
     "output_type": "execute_result"
    }
   ],
   "source": [
    "import pandas as pd\n",
    "df = pd.read_csv(\"adult.csv\")\n",
    "df.head()"
   ]
  },
  {
   "cell_type": "markdown",
   "id": "573e6033",
   "metadata": {
    "papermill": {
     "duration": 0.010734,
     "end_time": "2022-07-13T06:09:08.518991",
     "exception": false,
     "start_time": "2022-07-13T06:09:08.508257",
     "status": "completed"
    },
    "tags": []
   },
   "source": [
    "<a id='understanding'></a>\n",
    "# <p style=\"background-color:coral;font-family:newtimeroman;font-size:150%;color:white;text-align:center;border-radius:20px 20px;\"><b>Understanding The Dataset</b></p>\n",
    "The understanding stage is where we attempt to explore the data. Let's take a look at the type of columns with the `dtypes` attribute."
   ]
  },
  {
   "cell_type": "code",
   "execution_count": 2,
   "id": "d9f8cd02",
   "metadata": {
    "execution": {
     "iopub.execute_input": "2022-07-13T06:09:08.542657Z",
     "iopub.status.busy": "2022-07-13T06:09:08.542264Z",
     "iopub.status.idle": "2022-07-13T06:09:08.550401Z",
     "shell.execute_reply": "2022-07-13T06:09:08.549204Z"
    },
    "papermill": {
     "duration": 0.022898,
     "end_time": "2022-07-13T06:09:08.552854",
     "exception": false,
     "start_time": "2022-07-13T06:09:08.529956",
     "status": "completed"
    },
    "tags": []
   },
   "outputs": [
    {
     "data": {
      "text/plain": [
       "age                int64\n",
       "workclass         object\n",
       "fnlwgt             int64\n",
       "education         object\n",
       "education.num      int64\n",
       "marital.status    object\n",
       "occupation        object\n",
       "relationship      object\n",
       "race              object\n",
       "sex               object\n",
       "capital.gain       int64\n",
       "capital.loss       int64\n",
       "hours.per.week     int64\n",
       "native.country    object\n",
       "income            object\n",
       "dtype: object"
      ]
     },
     "execution_count": 2,
     "metadata": {},
     "output_type": "execute_result"
    }
   ],
   "source": [
    "df.dtypes"
   ]
  },
  {
   "cell_type": "markdown",
   "id": "815436f4",
   "metadata": {
    "papermill": {
     "duration": 0.010439,
     "end_time": "2022-07-13T06:09:08.574238",
     "exception": false,
     "start_time": "2022-07-13T06:09:08.563799",
     "status": "completed"
    },
    "tags": []
   },
   "source": [
    "The dataset contained both numerical and categorical values. Let me look at missing data with the `isnull` method."
   ]
  },
  {
   "cell_type": "code",
   "execution_count": 3,
   "id": "b3150a55",
   "metadata": {
    "execution": {
     "iopub.execute_input": "2022-07-13T06:09:08.598503Z",
     "iopub.status.busy": "2022-07-13T06:09:08.597691Z",
     "iopub.status.idle": "2022-07-13T06:09:08.639258Z",
     "shell.execute_reply": "2022-07-13T06:09:08.638124Z"
    },
    "papermill": {
     "duration": 0.056524,
     "end_time": "2022-07-13T06:09:08.641637",
     "exception": false,
     "start_time": "2022-07-13T06:09:08.585113",
     "status": "completed"
    },
    "tags": []
   },
   "outputs": [
    {
     "data": {
      "text/plain": [
       "age               0\n",
       "workclass         0\n",
       "fnlwgt            0\n",
       "education         0\n",
       "education.num     0\n",
       "marital.status    0\n",
       "occupation        0\n",
       "relationship      0\n",
       "race              0\n",
       "sex               0\n",
       "capital.gain      0\n",
       "capital.loss      0\n",
       "hours.per.week    0\n",
       "native.country    0\n",
       "income            0\n",
       "dtype: int64"
      ]
     },
     "execution_count": 3,
     "metadata": {},
     "output_type": "execute_result"
    }
   ],
   "source": [
    "df.isnull().sum()"
   ]
  },
  {
   "cell_type": "markdown",
   "id": "a9e8d6b0",
   "metadata": {
    "papermill": {
     "duration": 0.01083,
     "end_time": "2022-07-13T06:09:08.663240",
     "exception": false,
     "start_time": "2022-07-13T06:09:08.652410",
     "status": "completed"
    },
    "tags": []
   },
   "source": [
    "Cool. There is no missing data in the dataset. I'll look at the general information in the dataset with the `info` method."
   ]
  },
  {
   "cell_type": "code",
   "execution_count": 4,
   "id": "c3f48cac",
   "metadata": {
    "execution": {
     "iopub.execute_input": "2022-07-13T06:09:08.687871Z",
     "iopub.status.busy": "2022-07-13T06:09:08.686886Z",
     "iopub.status.idle": "2022-07-13T06:09:08.746437Z",
     "shell.execute_reply": "2022-07-13T06:09:08.744997Z"
    },
    "papermill": {
     "duration": 0.074754,
     "end_time": "2022-07-13T06:09:08.749252",
     "exception": false,
     "start_time": "2022-07-13T06:09:08.674498",
     "status": "completed"
    },
    "tags": []
   },
   "outputs": [
    {
     "name": "stdout",
     "output_type": "stream",
     "text": [
      "<class 'pandas.core.frame.DataFrame'>\n",
      "RangeIndex: 32561 entries, 0 to 32560\n",
      "Data columns (total 15 columns):\n",
      " #   Column          Non-Null Count  Dtype \n",
      "---  ------          --------------  ----- \n",
      " 0   age             32561 non-null  int64 \n",
      " 1   workclass       32561 non-null  object\n",
      " 2   fnlwgt          32561 non-null  int64 \n",
      " 3   education       32561 non-null  object\n",
      " 4   education.num   32561 non-null  int64 \n",
      " 5   marital.status  32561 non-null  object\n",
      " 6   occupation      32561 non-null  object\n",
      " 7   relationship    32561 non-null  object\n",
      " 8   race            32561 non-null  object\n",
      " 9   sex             32561 non-null  object\n",
      " 10  capital.gain    32561 non-null  int64 \n",
      " 11  capital.loss    32561 non-null  int64 \n",
      " 12  hours.per.week  32561 non-null  int64 \n",
      " 13  native.country  32561 non-null  object\n",
      " 14  income          32561 non-null  object\n",
      "dtypes: int64(6), object(9)\n",
      "memory usage: 3.7+ MB\n"
     ]
    }
   ],
   "source": [
    "df.info()"
   ]
  },
  {
   "cell_type": "markdown",
   "id": "de39b04f",
   "metadata": {
    "papermill": {
     "duration": 0.01075,
     "end_time": "2022-07-13T06:09:08.771211",
     "exception": false,
     "start_time": "2022-07-13T06:09:08.760461",
     "status": "completed"
    },
    "tags": []
   },
   "source": [
    "As you can see, there are 32561 rows and 15 columns in the dataset."
   ]
  },
  {
   "cell_type": "markdown",
   "id": "b2c4265e",
   "metadata": {
    "papermill": {
     "duration": 0.010743,
     "end_time": "2022-07-13T06:09:08.793704",
     "exception": false,
     "start_time": "2022-07-13T06:09:08.782961",
     "status": "completed"
    },
    "tags": []
   },
   "source": [
    "<a id='preprocessing'></a>\n",
    "# <p style=\"background-color:coral;font-family:newtimeroman;font-size:150%;color:white;text-align:center;border-radius:20px 20px;\"><b>Data Preprocessing</b></p>"
   ]
  },
  {
   "cell_type": "markdown",
   "id": "e41ad540",
   "metadata": {
    "papermill": {
     "duration": 0.010593,
     "end_time": "2022-07-13T06:09:08.815224",
     "exception": false,
     "start_time": "2022-07-13T06:09:08.804631",
     "status": "completed"
    },
    "tags": []
   },
   "source": [
    "Here the education_num column is a numerical conversion of 'education'. As the information is the same, we can delete the education column."
   ]
  },
  {
   "cell_type": "code",
   "execution_count": 5,
   "id": "bdb3bfc1",
   "metadata": {
    "execution": {
     "iopub.execute_input": "2022-07-13T06:09:08.839383Z",
     "iopub.status.busy": "2022-07-13T06:09:08.838699Z",
     "iopub.status.idle": "2022-07-13T06:09:08.848425Z",
     "shell.execute_reply": "2022-07-13T06:09:08.847543Z"
    },
    "papermill": {
     "duration": 0.024426,
     "end_time": "2022-07-13T06:09:08.850749",
     "exception": false,
     "start_time": "2022-07-13T06:09:08.826323",
     "status": "completed"
    },
    "tags": []
   },
   "outputs": [],
   "source": [
    "df = df.drop([\"education\"], axis=1)"
   ]
  },
  {
   "cell_type": "markdown",
   "id": "8ec882fb",
   "metadata": {
    "papermill": {
     "duration": 0.01109,
     "end_time": "2022-07-13T06:09:08.873191",
     "exception": false,
     "start_time": "2022-07-13T06:09:08.862101",
     "status": "completed"
    },
    "tags": []
   },
   "source": [
    "Let's convert non-numerical columns into numerical columns with the `get_dummies` method in Pandas."
   ]
  },
  {
   "cell_type": "code",
   "execution_count": 6,
   "id": "11afde6c",
   "metadata": {
    "execution": {
     "iopub.execute_input": "2022-07-13T06:09:08.897874Z",
     "iopub.status.busy": "2022-07-13T06:09:08.897450Z",
     "iopub.status.idle": "2022-07-13T06:09:08.974576Z",
     "shell.execute_reply": "2022-07-13T06:09:08.973245Z"
    },
    "papermill": {
     "duration": 0.092351,
     "end_time": "2022-07-13T06:09:08.977081",
     "exception": false,
     "start_time": "2022-07-13T06:09:08.884730",
     "status": "completed"
    },
    "tags": []
   },
   "outputs": [
    {
     "data": {
      "text/html": [
       "<div>\n",
       "<style scoped>\n",
       "    .dataframe tbody tr th:only-of-type {\n",
       "        vertical-align: middle;\n",
       "    }\n",
       "\n",
       "    .dataframe tbody tr th {\n",
       "        vertical-align: top;\n",
       "    }\n",
       "\n",
       "    .dataframe thead th {\n",
       "        text-align: right;\n",
       "    }\n",
       "</style>\n",
       "<table border=\"1\" class=\"dataframe\">\n",
       "  <thead>\n",
       "    <tr style=\"text-align: right;\">\n",
       "      <th></th>\n",
       "      <th>age</th>\n",
       "      <th>fnlwgt</th>\n",
       "      <th>education.num</th>\n",
       "      <th>capital.gain</th>\n",
       "      <th>capital.loss</th>\n",
       "      <th>hours.per.week</th>\n",
       "      <th>workclass_?</th>\n",
       "      <th>workclass_Federal-gov</th>\n",
       "      <th>workclass_Local-gov</th>\n",
       "      <th>workclass_Never-worked</th>\n",
       "      <th>...</th>\n",
       "      <th>native.country_Scotland</th>\n",
       "      <th>native.country_South</th>\n",
       "      <th>native.country_Taiwan</th>\n",
       "      <th>native.country_Thailand</th>\n",
       "      <th>native.country_Trinadad&amp;Tobago</th>\n",
       "      <th>native.country_United-States</th>\n",
       "      <th>native.country_Vietnam</th>\n",
       "      <th>native.country_Yugoslavia</th>\n",
       "      <th>income_&lt;=50K</th>\n",
       "      <th>income_&gt;50K</th>\n",
       "    </tr>\n",
       "  </thead>\n",
       "  <tbody>\n",
       "    <tr>\n",
       "      <th>0</th>\n",
       "      <td>90</td>\n",
       "      <td>77053</td>\n",
       "      <td>9</td>\n",
       "      <td>0</td>\n",
       "      <td>4356</td>\n",
       "      <td>40</td>\n",
       "      <td>1</td>\n",
       "      <td>0</td>\n",
       "      <td>0</td>\n",
       "      <td>0</td>\n",
       "      <td>...</td>\n",
       "      <td>0</td>\n",
       "      <td>0</td>\n",
       "      <td>0</td>\n",
       "      <td>0</td>\n",
       "      <td>0</td>\n",
       "      <td>1</td>\n",
       "      <td>0</td>\n",
       "      <td>0</td>\n",
       "      <td>1</td>\n",
       "      <td>0</td>\n",
       "    </tr>\n",
       "    <tr>\n",
       "      <th>1</th>\n",
       "      <td>82</td>\n",
       "      <td>132870</td>\n",
       "      <td>9</td>\n",
       "      <td>0</td>\n",
       "      <td>4356</td>\n",
       "      <td>18</td>\n",
       "      <td>0</td>\n",
       "      <td>0</td>\n",
       "      <td>0</td>\n",
       "      <td>0</td>\n",
       "      <td>...</td>\n",
       "      <td>0</td>\n",
       "      <td>0</td>\n",
       "      <td>0</td>\n",
       "      <td>0</td>\n",
       "      <td>0</td>\n",
       "      <td>1</td>\n",
       "      <td>0</td>\n",
       "      <td>0</td>\n",
       "      <td>1</td>\n",
       "      <td>0</td>\n",
       "    </tr>\n",
       "    <tr>\n",
       "      <th>2</th>\n",
       "      <td>66</td>\n",
       "      <td>186061</td>\n",
       "      <td>10</td>\n",
       "      <td>0</td>\n",
       "      <td>4356</td>\n",
       "      <td>40</td>\n",
       "      <td>1</td>\n",
       "      <td>0</td>\n",
       "      <td>0</td>\n",
       "      <td>0</td>\n",
       "      <td>...</td>\n",
       "      <td>0</td>\n",
       "      <td>0</td>\n",
       "      <td>0</td>\n",
       "      <td>0</td>\n",
       "      <td>0</td>\n",
       "      <td>1</td>\n",
       "      <td>0</td>\n",
       "      <td>0</td>\n",
       "      <td>1</td>\n",
       "      <td>0</td>\n",
       "    </tr>\n",
       "    <tr>\n",
       "      <th>3</th>\n",
       "      <td>54</td>\n",
       "      <td>140359</td>\n",
       "      <td>4</td>\n",
       "      <td>0</td>\n",
       "      <td>3900</td>\n",
       "      <td>40</td>\n",
       "      <td>0</td>\n",
       "      <td>0</td>\n",
       "      <td>0</td>\n",
       "      <td>0</td>\n",
       "      <td>...</td>\n",
       "      <td>0</td>\n",
       "      <td>0</td>\n",
       "      <td>0</td>\n",
       "      <td>0</td>\n",
       "      <td>0</td>\n",
       "      <td>1</td>\n",
       "      <td>0</td>\n",
       "      <td>0</td>\n",
       "      <td>1</td>\n",
       "      <td>0</td>\n",
       "    </tr>\n",
       "    <tr>\n",
       "      <th>4</th>\n",
       "      <td>41</td>\n",
       "      <td>264663</td>\n",
       "      <td>10</td>\n",
       "      <td>0</td>\n",
       "      <td>3900</td>\n",
       "      <td>40</td>\n",
       "      <td>0</td>\n",
       "      <td>0</td>\n",
       "      <td>0</td>\n",
       "      <td>0</td>\n",
       "      <td>...</td>\n",
       "      <td>0</td>\n",
       "      <td>0</td>\n",
       "      <td>0</td>\n",
       "      <td>0</td>\n",
       "      <td>0</td>\n",
       "      <td>1</td>\n",
       "      <td>0</td>\n",
       "      <td>0</td>\n",
       "      <td>1</td>\n",
       "      <td>0</td>\n",
       "    </tr>\n",
       "  </tbody>\n",
       "</table>\n",
       "<p>5 rows × 94 columns</p>\n",
       "</div>"
      ],
      "text/plain": [
       "   age  fnlwgt  education.num  capital.gain  capital.loss  hours.per.week  \\\n",
       "0   90   77053              9             0          4356              40   \n",
       "1   82  132870              9             0          4356              18   \n",
       "2   66  186061             10             0          4356              40   \n",
       "3   54  140359              4             0          3900              40   \n",
       "4   41  264663             10             0          3900              40   \n",
       "\n",
       "   workclass_?  workclass_Federal-gov  workclass_Local-gov  \\\n",
       "0            1                      0                    0   \n",
       "1            0                      0                    0   \n",
       "2            1                      0                    0   \n",
       "3            0                      0                    0   \n",
       "4            0                      0                    0   \n",
       "\n",
       "   workclass_Never-worked  ...  native.country_Scotland  native.country_South  \\\n",
       "0                       0  ...                        0                     0   \n",
       "1                       0  ...                        0                     0   \n",
       "2                       0  ...                        0                     0   \n",
       "3                       0  ...                        0                     0   \n",
       "4                       0  ...                        0                     0   \n",
       "\n",
       "   native.country_Taiwan  native.country_Thailand  \\\n",
       "0                      0                        0   \n",
       "1                      0                        0   \n",
       "2                      0                        0   \n",
       "3                      0                        0   \n",
       "4                      0                        0   \n",
       "\n",
       "   native.country_Trinadad&Tobago  native.country_United-States  \\\n",
       "0                               0                             1   \n",
       "1                               0                             1   \n",
       "2                               0                             1   \n",
       "3                               0                             1   \n",
       "4                               0                             1   \n",
       "\n",
       "   native.country_Vietnam  native.country_Yugoslavia  income_<=50K  \\\n",
       "0                       0                          0             1   \n",
       "1                       0                          0             1   \n",
       "2                       0                          0             1   \n",
       "3                       0                          0             1   \n",
       "4                       0                          0             1   \n",
       "\n",
       "   income_>50K  \n",
       "0            0  \n",
       "1            0  \n",
       "2            0  \n",
       "3            0  \n",
       "4            0  \n",
       "\n",
       "[5 rows x 94 columns]"
      ]
     },
     "execution_count": 6,
     "metadata": {},
     "output_type": "execute_result"
    }
   ],
   "source": [
    "df = pd.get_dummies(df)\n",
    "df.head()"
   ]
  },
  {
   "cell_type": "markdown",
   "id": "0583f61a",
   "metadata": {
    "papermill": {
     "duration": 0.010821,
     "end_time": "2022-07-13T06:09:08.999448",
     "exception": false,
     "start_time": "2022-07-13T06:09:08.988627",
     "status": "completed"
    },
    "tags": []
   },
   "source": [
    "As you can see, the categorical values were converted into numerical values. 1 indicates presence and 0 indicates absence. Let's take a look at the columns of dataset with the `columns` attribute."
   ]
  },
  {
   "cell_type": "code",
   "execution_count": 7,
   "id": "bb3945b1",
   "metadata": {
    "execution": {
     "iopub.execute_input": "2022-07-13T06:09:09.025393Z",
     "iopub.status.busy": "2022-07-13T06:09:09.024301Z",
     "iopub.status.idle": "2022-07-13T06:09:09.032919Z",
     "shell.execute_reply": "2022-07-13T06:09:09.031735Z"
    },
    "papermill": {
     "duration": 0.023689,
     "end_time": "2022-07-13T06:09:09.034988",
     "exception": false,
     "start_time": "2022-07-13T06:09:09.011299",
     "status": "completed"
    },
    "tags": []
   },
   "outputs": [
    {
     "data": {
      "text/plain": [
       "Index(['age', 'fnlwgt', 'education.num', 'capital.gain', 'capital.loss',\n",
       "       'hours.per.week', 'workclass_?', 'workclass_Federal-gov',\n",
       "       'workclass_Local-gov', 'workclass_Never-worked', 'workclass_Private',\n",
       "       'workclass_Self-emp-inc', 'workclass_Self-emp-not-inc',\n",
       "       'workclass_State-gov', 'workclass_Without-pay',\n",
       "       'marital.status_Divorced', 'marital.status_Married-AF-spouse',\n",
       "       'marital.status_Married-civ-spouse',\n",
       "       'marital.status_Married-spouse-absent', 'marital.status_Never-married',\n",
       "       'marital.status_Separated', 'marital.status_Widowed', 'occupation_?',\n",
       "       'occupation_Adm-clerical', 'occupation_Armed-Forces',\n",
       "       'occupation_Craft-repair', 'occupation_Exec-managerial',\n",
       "       'occupation_Farming-fishing', 'occupation_Handlers-cleaners',\n",
       "       'occupation_Machine-op-inspct', 'occupation_Other-service',\n",
       "       'occupation_Priv-house-serv', 'occupation_Prof-specialty',\n",
       "       'occupation_Protective-serv', 'occupation_Sales',\n",
       "       'occupation_Tech-support', 'occupation_Transport-moving',\n",
       "       'relationship_Husband', 'relationship_Not-in-family',\n",
       "       'relationship_Other-relative', 'relationship_Own-child',\n",
       "       'relationship_Unmarried', 'relationship_Wife',\n",
       "       'race_Amer-Indian-Eskimo', 'race_Asian-Pac-Islander', 'race_Black',\n",
       "       'race_Other', 'race_White', 'sex_Female', 'sex_Male',\n",
       "       'native.country_?', 'native.country_Cambodia', 'native.country_Canada',\n",
       "       'native.country_China', 'native.country_Columbia',\n",
       "       'native.country_Cuba', 'native.country_Dominican-Republic',\n",
       "       'native.country_Ecuador', 'native.country_El-Salvador',\n",
       "       'native.country_England', 'native.country_France',\n",
       "       'native.country_Germany', 'native.country_Greece',\n",
       "       'native.country_Guatemala', 'native.country_Haiti',\n",
       "       'native.country_Holand-Netherlands', 'native.country_Honduras',\n",
       "       'native.country_Hong', 'native.country_Hungary', 'native.country_India',\n",
       "       'native.country_Iran', 'native.country_Ireland', 'native.country_Italy',\n",
       "       'native.country_Jamaica', 'native.country_Japan', 'native.country_Laos',\n",
       "       'native.country_Mexico', 'native.country_Nicaragua',\n",
       "       'native.country_Outlying-US(Guam-USVI-etc)', 'native.country_Peru',\n",
       "       'native.country_Philippines', 'native.country_Poland',\n",
       "       'native.country_Portugal', 'native.country_Puerto-Rico',\n",
       "       'native.country_Scotland', 'native.country_South',\n",
       "       'native.country_Taiwan', 'native.country_Thailand',\n",
       "       'native.country_Trinadad&Tobago', 'native.country_United-States',\n",
       "       'native.country_Vietnam', 'native.country_Yugoslavia', 'income_<=50K',\n",
       "       'income_>50K'],\n",
       "      dtype='object')"
      ]
     },
     "execution_count": 7,
     "metadata": {},
     "output_type": "execute_result"
    }
   ],
   "source": [
    "df.columns"
   ]
  },
  {
   "cell_type": "markdown",
   "id": "94880b16",
   "metadata": {
    "papermill": {
     "duration": 0.011087,
     "end_time": "2022-07-13T06:09:09.057697",
     "exception": false,
     "start_time": "2022-07-13T06:09:09.046610",
     "status": "completed"
    },
    "tags": []
   },
   "source": [
    "To specify the target variable, let's delete the income < 50K column with the `drop` method."
   ]
  },
  {
   "cell_type": "code",
   "execution_count": 8,
   "id": "5288bd4c",
   "metadata": {
    "execution": {
     "iopub.execute_input": "2022-07-13T06:09:09.082759Z",
     "iopub.status.busy": "2022-07-13T06:09:09.082041Z",
     "iopub.status.idle": "2022-07-13T06:09:09.099704Z",
     "shell.execute_reply": "2022-07-13T06:09:09.098226Z"
    },
    "papermill": {
     "duration": 0.033099,
     "end_time": "2022-07-13T06:09:09.102253",
     "exception": false,
     "start_time": "2022-07-13T06:09:09.069154",
     "status": "completed"
    },
    "tags": []
   },
   "outputs": [],
   "source": [
    "df = df.drop(\"income_<=50K\", axis = 1)"
   ]
  },
  {
   "cell_type": "markdown",
   "id": "8c9141c1",
   "metadata": {
    "papermill": {
     "duration": 0.0114,
     "end_time": "2022-07-13T06:09:09.125428",
     "exception": false,
     "start_time": "2022-07-13T06:09:09.114028",
     "status": "completed"
    },
    "tags": []
   },
   "source": [
    "Let's create the target and feature variables with the `iloc` method."
   ]
  },
  {
   "cell_type": "code",
   "execution_count": 9,
   "id": "58c93483",
   "metadata": {
    "execution": {
     "iopub.execute_input": "2022-07-13T06:09:09.150688Z",
     "iopub.status.busy": "2022-07-13T06:09:09.150062Z",
     "iopub.status.idle": "2022-07-13T06:09:09.161217Z",
     "shell.execute_reply": "2022-07-13T06:09:09.160292Z"
    },
    "papermill": {
     "duration": 0.026566,
     "end_time": "2022-07-13T06:09:09.163642",
     "exception": false,
     "start_time": "2022-07-13T06:09:09.137076",
     "status": "completed"
    },
    "tags": []
   },
   "outputs": [],
   "source": [
    "X = df.iloc[:,:-1]\n",
    "y = df.iloc[:,-1]"
   ]
  },
  {
   "cell_type": "markdown",
   "id": "d92c3507",
   "metadata": {
    "papermill": {
     "duration": 0.01164,
     "end_time": "2022-07-13T06:09:09.186902",
     "exception": false,
     "start_time": "2022-07-13T06:09:09.175262",
     "status": "completed"
    },
    "tags": []
   },
   "source": [
    "Let's split the dataset into the training, validation, and test set with the `train_test_split` method."
   ]
  },
  {
   "cell_type": "code",
   "execution_count": 10,
   "id": "bc8fd6f5",
   "metadata": {
    "execution": {
     "iopub.execute_input": "2022-07-13T06:09:09.211872Z",
     "iopub.status.busy": "2022-07-13T06:09:09.211442Z",
     "iopub.status.idle": "2022-07-13T06:09:10.443289Z",
     "shell.execute_reply": "2022-07-13T06:09:10.442185Z"
    },
    "papermill": {
     "duration": 1.248084,
     "end_time": "2022-07-13T06:09:10.446503",
     "exception": false,
     "start_time": "2022-07-13T06:09:09.198419",
     "status": "completed"
    },
    "tags": []
   },
   "outputs": [],
   "source": [
    "from sklearn.model_selection import train_test_split\n",
    "X_train_full, X_test, y_train_full, y_test=train_test_split(X,y,random_state=0)"
   ]
  },
  {
   "cell_type": "markdown",
   "id": "a8d1e9ea",
   "metadata": {
    "papermill": {
     "duration": 0.011356,
     "end_time": "2022-07-13T06:09:10.470295",
     "exception": false,
     "start_time": "2022-07-13T06:09:10.458939",
     "status": "completed"
    },
    "tags": []
   },
   "source": [
    "To evaluate the model, let me create the validation set with the `train_test_split` method."
   ]
  },
  {
   "cell_type": "code",
   "execution_count": 11,
   "id": "9e900cc8",
   "metadata": {
    "execution": {
     "iopub.execute_input": "2022-07-13T06:09:10.496108Z",
     "iopub.status.busy": "2022-07-13T06:09:10.495708Z",
     "iopub.status.idle": "2022-07-13T06:09:10.521870Z",
     "shell.execute_reply": "2022-07-13T06:09:10.520879Z"
    },
    "papermill": {
     "duration": 0.04216,
     "end_time": "2022-07-13T06:09:10.524367",
     "exception": false,
     "start_time": "2022-07-13T06:09:10.482207",
     "status": "completed"
    },
    "tags": []
   },
   "outputs": [],
   "source": [
    "X_train, X_val, y_train, y_val=train_test_split(X_train_full, y_train_full, random_state=0)"
   ]
  },
  {
   "cell_type": "markdown",
   "id": "27350144",
   "metadata": {
    "papermill": {
     "duration": 0.011088,
     "end_time": "2022-07-13T06:09:10.547144",
     "exception": false,
     "start_time": "2022-07-13T06:09:10.536056",
     "status": "completed"
    },
    "tags": []
   },
   "source": [
    "<a id='xgboost_model'></a>\n",
    "# <p style=\"background-color:coral;font-family:newtimeroman;font-size:150%;color:white;text-align:center;border-radius:20px 20px;\"><b>The XGBoost Model</b></p>\n",
    "XGBoost provides a parallel tree boosting that solve many data science problems in a fast and accurate way. Let's build an XGBoost classifier model with a n_estimators value of 500, the learning rate value of 0.05 and the early_stopping_rounds value of 5. Keep in mind that a small learning rate and a larger number of estimators will yield more accurate XGBoost models."
   ]
  },
  {
   "cell_type": "markdown",
   "id": "3b27a64f-41f6-414d-a620-1aa24f0822e5",
   "metadata": {},
   "source": [
    "1. n_estimators\n",
    "* Description: Specifies the maximum number of boosting rounds (or trees) that will be created.\n",
    "* Value in your code: 500\n",
    "* Implication: The model will train up to 500 trees unless stopped earlier due to overfitting or convergence criteria like early stopping. A higher number can increase model performance but also training time.\n",
    "2. learning_rate\n",
    "* Description: This is the step size shrinkage used in updates to prevent overfitting. It scales the contribution of each tree.\n",
    "* Value in your code: 0.05\n",
    "* Implication: A lower value (e.g., 0.05) makes the learning process slower and potentially more accurate, as it allows more trees to contribute to the learning.\n",
    "3. use_label_encoder\n",
    "* Description: A flag to control whether the old label encoder is used for encoding target labels.\n",
    "* Value in your code: False\n",
    "* Implication: By setting this to False, XGBoost will use the newer approach to handle categorical variables directly instead of requiring labels to be pre-encoded.\n",
    "4. eval_metric\n",
    "* Description: The metric used to evaluate the model's performance during training.\n",
    "* Value in your code: \"logloss\"\n",
    "* Implication: Logarithmic loss (logloss) is used as the evaluation metric. It measures the accuracy of probabilistic predictions by penalizing incorrect confidence predictions more heavily.\n",
    "5. early_stopping_rounds\n",
    "* Description: Stops training if the evaluation metric does not improve for a specified number of rounds.\n",
    "* Value in your code: 5\n",
    "* Implication: If the model’s performance on the validation dataset does not improve for 5 consecutive rounds, training stops early to prevent overfitting and save time.\n",
    "6. n_jobs\n",
    "* Description: The number of parallel threads used for training.\n",
    "* Value in your code: -1\n",
    "* Implication: By setting -1, the algorithm will use all available CPU cores to speed up training. This is particularly beneficial for large datasets.\n"
   ]
  },
  {
   "cell_type": "code",
   "execution_count": 12,
   "id": "040e3dd3",
   "metadata": {
    "execution": {
     "iopub.execute_input": "2022-07-13T06:09:10.571968Z",
     "iopub.status.busy": "2022-07-13T06:09:10.571525Z",
     "iopub.status.idle": "2022-07-13T06:09:10.683414Z",
     "shell.execute_reply": "2022-07-13T06:09:10.682127Z"
    },
    "papermill": {
     "duration": 0.127677,
     "end_time": "2022-07-13T06:09:10.686273",
     "exception": false,
     "start_time": "2022-07-13T06:09:10.558596",
     "status": "completed"
    },
    "tags": []
   },
   "outputs": [],
   "source": [
    "from xgboost import XGBClassifier\n",
    "xgb_clf = XGBClassifier(n_estimators = 500,\n",
    "                        learning_rate = 0.05,\n",
    "                        use_label_encoder = False,\n",
    "                        eval_metric = \"logloss\",\n",
    "                        early_stopping_rounds = 5,\n",
    "                        n_jobs = -1)"
   ]
  },
  {
   "cell_type": "markdown",
   "id": "f6f8a28d",
   "metadata": {
    "papermill": {
     "duration": 0.011308,
     "end_time": "2022-07-13T06:09:10.709350",
     "exception": false,
     "start_time": "2022-07-13T06:09:10.698042",
     "status": "completed"
    },
    "tags": []
   },
   "source": [
    "Let me train the model with the `fit` model."
   ]
  },
  {
   "cell_type": "code",
   "execution_count": 13,
   "id": "11fdcbe5",
   "metadata": {
    "execution": {
     "iopub.execute_input": "2022-07-13T06:09:10.735459Z",
     "iopub.status.busy": "2022-07-13T06:09:10.734741Z",
     "iopub.status.idle": "2022-07-13T06:09:18.851104Z",
     "shell.execute_reply": "2022-07-13T06:09:18.850159Z"
    },
    "papermill": {
     "duration": 8.132581,
     "end_time": "2022-07-13T06:09:18.853540",
     "exception": false,
     "start_time": "2022-07-13T06:09:10.720959",
     "status": "completed"
    },
    "tags": []
   },
   "outputs": [
    {
     "data": {
      "text/plain": [
       "XGBClassifier(base_score=0.5, booster='gbtree', callbacks=None,\n",
       "              colsample_bylevel=1, colsample_bynode=1, colsample_bytree=1,\n",
       "              early_stopping_rounds=5, enable_categorical=False,\n",
       "              eval_metric='logloss', gamma=0, gpu_id=-1,\n",
       "              grow_policy='depthwise', importance_type=None,\n",
       "              interaction_constraints='', learning_rate=0.05, max_bin=256,\n",
       "              max_cat_to_onehot=4, max_delta_step=0, max_depth=6, max_leaves=0,\n",
       "              min_child_weight=1, missing=nan, monotone_constraints='()',\n",
       "              n_estimators=500, n_jobs=-1, num_parallel_tree=1,\n",
       "              predictor='auto', random_state=0, reg_alpha=0, reg_lambda=1, ...)"
      ]
     },
     "execution_count": 13,
     "metadata": {},
     "output_type": "execute_result"
    }
   ],
   "source": [
    "xgb_clf.fit(X_train, y_train,                    \n",
    "            eval_set = [(X_val,y_val)],\n",
    "            verbose = False)"
   ]
  },
  {
   "cell_type": "markdown",
   "id": "f73012ce",
   "metadata": {
    "papermill": {
     "duration": 0.011522,
     "end_time": "2022-07-13T06:09:18.876822",
     "exception": false,
     "start_time": "2022-07-13T06:09:18.865300",
     "status": "completed"
    },
    "tags": []
   },
   "source": [
    "Let's take a look at the performance of the model with the accuracy metric."
   ]
  },
  {
   "cell_type": "code",
   "execution_count": 14,
   "id": "f7033136",
   "metadata": {
    "execution": {
     "iopub.execute_input": "2022-07-13T06:09:18.902998Z",
     "iopub.status.busy": "2022-07-13T06:09:18.901955Z",
     "iopub.status.idle": "2022-07-13T06:09:18.907116Z",
     "shell.execute_reply": "2022-07-13T06:09:18.905921Z"
    },
    "papermill": {
     "duration": 0.020534,
     "end_time": "2022-07-13T06:09:18.909376",
     "exception": false,
     "start_time": "2022-07-13T06:09:18.888842",
     "status": "completed"
    },
    "tags": []
   },
   "outputs": [],
   "source": [
    "from sklearn.metrics import accuracy_score\n",
    "import numpy as np"
   ]
  },
  {
   "cell_type": "markdown",
   "id": "4c03548a",
   "metadata": {
    "papermill": {
     "duration": 0.011138,
     "end_time": "2022-07-13T06:09:18.932127",
     "exception": false,
     "start_time": "2022-07-13T06:09:18.920989",
     "status": "completed"
    },
    "tags": []
   },
   "source": [
    "First, I'm going to look at the model accucary on the test set."
   ]
  },
  {
   "cell_type": "code",
   "execution_count": 15,
   "id": "0a960ada",
   "metadata": {
    "execution": {
     "iopub.execute_input": "2022-07-13T06:09:18.957069Z",
     "iopub.status.busy": "2022-07-13T06:09:18.956641Z",
     "iopub.status.idle": "2022-07-13T06:09:18.999633Z",
     "shell.execute_reply": "2022-07-13T06:09:18.998168Z"
    },
    "papermill": {
     "duration": 0.059752,
     "end_time": "2022-07-13T06:09:19.003412",
     "exception": false,
     "start_time": "2022-07-13T06:09:18.943660",
     "status": "completed"
    },
    "tags": []
   },
   "outputs": [
    {
     "name": "stdout",
     "output_type": "stream",
     "text": [
      "Test score: 0.87\n"
     ]
    }
   ],
   "source": [
    "pred_test = xgb_clf.predict(X_test)\n",
    "test_score = accuracy_score(pred_test, y_test)\n",
    "print(\"Test score:\", np.round(test_score,2))"
   ]
  },
  {
   "cell_type": "markdown",
   "id": "96b2fa51",
   "metadata": {
    "papermill": {
     "duration": 0.011402,
     "end_time": "2022-07-13T06:09:19.029313",
     "exception": false,
     "start_time": "2022-07-13T06:09:19.017911",
     "status": "completed"
    },
    "tags": []
   },
   "source": [
    "Next, let's look at the model accucary on train set."
   ]
  },
  {
   "cell_type": "code",
   "execution_count": 16,
   "id": "84e6d023",
   "metadata": {
    "execution": {
     "iopub.execute_input": "2022-07-13T06:09:19.054693Z",
     "iopub.status.busy": "2022-07-13T06:09:19.054317Z",
     "iopub.status.idle": "2022-07-13T06:09:19.135993Z",
     "shell.execute_reply": "2022-07-13T06:09:19.135007Z"
    },
    "papermill": {
     "duration": 0.097732,
     "end_time": "2022-07-13T06:09:19.138890",
     "exception": false,
     "start_time": "2022-07-13T06:09:19.041158",
     "status": "completed"
    },
    "tags": []
   },
   "outputs": [
    {
     "name": "stdout",
     "output_type": "stream",
     "text": [
      "Train score: 0.88\n"
     ]
    }
   ],
   "source": [
    "pred_train = xgb_clf.predict(X_train_full)\n",
    "train_score = accuracy_score(pred_train, y_train_full)\n",
    "print(\"Train score:\", np.round(train_score,2))"
   ]
  },
  {
   "cell_type": "markdown",
   "id": "5f54ca2b",
   "metadata": {
    "papermill": {
     "duration": 0.011416,
     "end_time": "2022-07-13T06:09:19.163339",
     "exception": false,
     "start_time": "2022-07-13T06:09:19.151923",
     "status": "completed"
    },
    "tags": []
   },
   "source": [
    "<a id='regression'></a>\n",
    "# <p style=\"background-color:coral;font-family:newtimeroman;font-size:150%;color:white;text-align:center;border-radius:20px 20px;\"><b>Logistic Regression vs XGBoost</b></p>"
   ]
  },
  {
   "cell_type": "markdown",
   "id": "f013e879",
   "metadata": {
    "papermill": {
     "duration": 0.011933,
     "end_time": "2022-07-13T06:09:19.187307",
     "exception": false,
     "start_time": "2022-07-13T06:09:19.175374",
     "status": "completed"
    },
    "tags": []
   },
   "source": [
    "Logistic regression is one of the most used classification algorithms. Let's compare the XGBoost model with the logistic regression model. To build a logistic regression model, I'm going to use the scikit learn library."
   ]
  },
  {
   "cell_type": "code",
   "execution_count": 17,
   "id": "b143788a",
   "metadata": {
    "execution": {
     "iopub.execute_input": "2022-07-13T06:09:19.213584Z",
     "iopub.status.busy": "2022-07-13T06:09:19.212880Z",
     "iopub.status.idle": "2022-07-13T06:09:19.300235Z",
     "shell.execute_reply": "2022-07-13T06:09:19.299191Z"
    },
    "papermill": {
     "duration": 0.103442,
     "end_time": "2022-07-13T06:09:19.302963",
     "exception": false,
     "start_time": "2022-07-13T06:09:19.199521",
     "status": "completed"
    },
    "tags": []
   },
   "outputs": [],
   "source": [
    "from sklearn.linear_model import LogisticRegression\n",
    "lr = LogisticRegression(max_iter=1000)"
   ]
  },
  {
   "cell_type": "markdown",
   "id": "6435fe6c",
   "metadata": {
    "papermill": {
     "duration": 0.011651,
     "end_time": "2022-07-13T06:09:19.326565",
     "exception": false,
     "start_time": "2022-07-13T06:09:19.314914",
     "status": "completed"
    },
    "tags": []
   },
   "source": [
    "Let's look at the cross validation score of the model with the `cross_val_score` method."
   ]
  },
  {
   "cell_type": "code",
   "execution_count": 18,
   "id": "4a041f7f",
   "metadata": {
    "execution": {
     "iopub.execute_input": "2022-07-13T06:09:19.351717Z",
     "iopub.status.busy": "2022-07-13T06:09:19.351352Z",
     "iopub.status.idle": "2022-07-13T06:09:24.282044Z",
     "shell.execute_reply": "2022-07-13T06:09:24.280760Z"
    },
    "papermill": {
     "duration": 4.947802,
     "end_time": "2022-07-13T06:09:24.286162",
     "exception": false,
     "start_time": "2022-07-13T06:09:19.338360",
     "status": "completed"
    },
    "tags": []
   },
   "outputs": [
    {
     "name": "stdout",
     "output_type": "stream",
     "text": [
      "Logistic regression score: 0.77\n"
     ]
    }
   ],
   "source": [
    "from sklearn.model_selection import cross_val_score\n",
    "scores = cross_val_score(lr, X, y, cv = 10)\n",
    "print(\"Logistic regression score:\", np.round(scores.mean(),2))"
   ]
  },
  {
   "cell_type": "markdown",
   "id": "d692628f",
   "metadata": {
    "papermill": {
     "duration": 0.021855,
     "end_time": "2022-07-13T06:09:24.330392",
     "exception": false,
     "start_time": "2022-07-13T06:09:24.308537",
     "status": "completed"
    },
    "tags": []
   },
   "source": [
    "As you can see, the score of the logistic regression model is 0.77."
   ]
  },
  {
   "cell_type": "markdown",
   "id": "14de2972",
   "metadata": {
    "papermill": {
     "duration": 0.020903,
     "end_time": "2022-07-13T06:09:24.373127",
     "exception": false,
     "start_time": "2022-07-13T06:09:24.352224",
     "status": "completed"
    },
    "tags": []
   },
   "source": [
    "<a id='conclusion'></a>\n",
    "# <p style=\"background-color:coral;font-family:newtimeroman;font-size:150%;color:white;text-align:center;border-radius:20px 20px;\"><b>Conclusion</b></p>"
   ]
  },
  {
   "cell_type": "markdown",
   "id": "57d707cf",
   "metadata": {
    "papermill": {
     "duration": 0.013187,
     "end_time": "2022-07-13T06:09:24.408079",
     "exception": false,
     "start_time": "2022-07-13T06:09:24.394892",
     "status": "completed"
    },
    "tags": []
   },
   "source": [
    "XGBoost is used implement gradient boosting. It's an optimized distributed gradient boosting library designed to be highly efficient, flexible and portable. As a result, it turned out that the performance of the XGBoost model is better than the performance of the logistic regression model for the adult census income dataset."
   ]
  }
 ],
 "metadata": {
  "kernelspec": {
   "display_name": "Python 3 (ipykernel)",
   "language": "python",
   "name": "python3"
  },
  "language_info": {
   "codemirror_mode": {
    "name": "ipython",
    "version": 3
   },
   "file_extension": ".py",
   "mimetype": "text/x-python",
   "name": "python",
   "nbconvert_exporter": "python",
   "pygments_lexer": "ipython3",
   "version": "3.12.4"
  },
  "papermill": {
   "default_parameters": {},
   "duration": 27.079518,
   "end_time": "2022-07-13T06:09:25.165591",
   "environment_variables": {},
   "exception": null,
   "input_path": "__notebook__.ipynb",
   "output_path": "__notebook__.ipynb",
   "parameters": {},
   "start_time": "2022-07-13T06:08:58.086073",
   "version": "2.3.4"
  }
 },
 "nbformat": 4,
 "nbformat_minor": 5
}
